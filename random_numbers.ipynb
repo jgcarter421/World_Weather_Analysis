{
 "cells": [
  {
   "cell_type": "code",
   "execution_count": 1,
   "id": "3436c26e-e332-47df-aad4-f600f2dda5a6",
   "metadata": {},
   "outputs": [],
   "source": [
    "# import the random modulule\n",
    "import random "
   ]
  },
  {
   "cell_type": "code",
   "execution_count": 2,
   "id": "ac3c1c94-b934-49a2-9f34-8d2c4beb73e5",
   "metadata": {},
   "outputs": [
    {
     "data": {
      "text/plain": [
       "86"
      ]
     },
     "execution_count": 2,
     "metadata": {},
     "output_type": "execute_result"
    }
   ],
   "source": [
    "random.randint(-90, 90)"
   ]
  },
  {
   "cell_type": "code",
   "execution_count": 3,
   "id": "519476d1-d9f9-489c-8070-96db1e575801",
   "metadata": {},
   "outputs": [
    {
     "data": {
      "text/plain": [
       "0.8507828073223529"
      ]
     },
     "execution_count": 3,
     "metadata": {},
     "output_type": "execute_result"
    }
   ],
   "source": [
    "random.random()"
   ]
  },
  {
   "cell_type": "code",
   "execution_count": 4,
   "id": "6a1920dc-e28f-429a-9752-89b6fc99fca8",
   "metadata": {},
   "outputs": [
    {
     "data": {
      "text/plain": [
       "74.35372895291364"
      ]
     },
     "execution_count": 4,
     "metadata": {},
     "output_type": "execute_result"
    }
   ],
   "source": [
    "random_number = random.randint(-90, 89) + random.random()\n",
    "random_number"
   ]
  },
  {
   "cell_type": "code",
   "execution_count": 6,
   "id": "41fe5e89-45fb-453f-8741-2dc46f1d09a5",
   "metadata": {},
   "outputs": [],
   "source": [
    "# Generate ramdom latituteds\n",
    "x = 1\n",
    "latitudes = []\n",
    "while x < 11:\n",
    "    random_lat = random.randint(-90, 89) + random.random()\n",
    "    latitudes.append(random_lat)\n",
    "    x += 1"
   ]
  },
  {
   "cell_type": "code",
   "execution_count": 7,
   "id": "c95d6c56-e860-4742-b9c3-1a560b825bae",
   "metadata": {},
   "outputs": [
    {
     "data": {
      "text/plain": [
       "-68"
      ]
     },
     "execution_count": 7,
     "metadata": {},
     "output_type": "execute_result"
    }
   ],
   "source": [
    "random.randrange(-90, 90, step=1)"
   ]
  },
  {
   "cell_type": "code",
   "execution_count": 8,
   "id": "887644ae-6198-47df-845b-99ac67c30a67",
   "metadata": {},
   "outputs": [
    {
     "data": {
      "text/plain": [
       "30"
      ]
     },
     "execution_count": 8,
     "metadata": {},
     "output_type": "execute_result"
    }
   ],
   "source": [
    "random.randrange(-90, 90, step=3)"
   ]
  },
  {
   "cell_type": "code",
   "execution_count": 9,
   "id": "a15a3c14-f14b-4442-b13b-ca8921d1517b",
   "metadata": {},
   "outputs": [
    {
     "data": {
      "text/plain": [
       "82.75396442243763"
      ]
     },
     "execution_count": 9,
     "metadata": {},
     "output_type": "execute_result"
    }
   ],
   "source": [
    "random.uniform(-90, 90)"
   ]
  },
  {
   "cell_type": "code",
   "execution_count": 10,
   "id": "623bb3e1-3e74-4475-904a-88845e7a4da6",
   "metadata": {},
   "outputs": [],
   "source": [
    "# Import the NumPy module.\n",
    "import numpy as np"
   ]
  },
  {
   "cell_type": "code",
   "execution_count": 11,
   "id": "ed2c6e9e-34e5-4fca-8b03-dff5b530f845",
   "metadata": {},
   "outputs": [
    {
     "data": {
      "text/plain": [
       "78.70456394669372"
      ]
     },
     "execution_count": 11,
     "metadata": {},
     "output_type": "execute_result"
    }
   ],
   "source": [
    "np.random.uniform(-90.000, 90.000)"
   ]
  },
  {
   "cell_type": "code",
   "execution_count": 12,
   "id": "43a4d283-6856-4576-9e2b-624ee9b26e18",
   "metadata": {},
   "outputs": [
    {
     "data": {
      "text/plain": [
       "array([-45.41599604,  69.38606907, -89.46415987, -79.11768728,\n",
       "        89.25139929,   9.33909503,  48.71336402,  58.20120006,\n",
       "       -83.22785208,  -1.90314445, -37.003022  , -69.46681721,\n",
       "        -7.21100933,  -4.08549311,  36.21633196,  22.02599427,\n",
       "         4.53687105,  16.42558253, -60.37218214,  13.11749717,\n",
       "       -58.53948966,  82.77563552, -86.49571268,  30.80476896,\n",
       "       -27.14576442,  -9.27743259, -18.70397514,  83.89629154,\n",
       "        79.90085267, -10.66473575,   9.21818162,  -5.54345449,\n",
       "       -26.2519322 , -79.01920421, -88.65140561,  49.59832416,\n",
       "       -32.3161218 ,  68.09329472,  88.89663343,  -2.17765932,\n",
       "        62.76508396,  -2.27551201,  32.62029921,   5.09811903,\n",
       "       -19.28139108, -69.86419953,  61.28520858,  22.84349243,\n",
       "       -76.20139948, -79.34211746])"
      ]
     },
     "execution_count": 12,
     "metadata": {},
     "output_type": "execute_result"
    }
   ],
   "source": [
    "np.random.uniform(-90.000, 90.000, size=50)"
   ]
  },
  {
   "cell_type": "code",
   "execution_count": 13,
   "id": "4775420c-66c7-48b3-b9e4-3ef221e9b893",
   "metadata": {},
   "outputs": [],
   "source": [
    "# Import timeit.\n",
    "import timeit"
   ]
  },
  {
   "cell_type": "code",
   "execution_count": 14,
   "id": "fbc19fd5-f6dc-46a0-8684-51e95114deb1",
   "metadata": {},
   "outputs": [
    {
     "name": "stdout",
     "output_type": "stream",
     "text": [
      "13.8 µs ± 78.6 ns per loop (mean ± std. dev. of 7 runs, 100,000 loops each)\n"
     ]
    }
   ],
   "source": [
    "%timeit np.random.uniform(-90.000, 90.000, size=1500)"
   ]
  },
  {
   "cell_type": "code",
   "execution_count": 15,
   "id": "23360fab-b5f0-42d6-bc0c-0cb67765a8ed",
   "metadata": {},
   "outputs": [
    {
     "name": "stdout",
     "output_type": "stream",
     "text": [
      "1.14 ms ± 1.7 µs per loop (mean ± std. dev. of 7 runs, 1,000 loops each)\n"
     ]
    }
   ],
   "source": [
    "def latitudes(size):\n",
    "    latitudes = []\n",
    "    x = 0\n",
    "    while x < (size):\n",
    "        random_lat = random.randint(-90, 90) + random.random()\n",
    "        latitudes.append(random_lat)\n",
    "        x += 1\n",
    "    return latitudes\n",
    "# Call the function with 1500.\n",
    "%timeit latitudes(1500)"
   ]
  },
  {
   "cell_type": "code",
   "execution_count": null,
   "id": "4d011daa-4f85-466a-8bfa-fdf77ee159a8",
   "metadata": {},
   "outputs": [],
   "source": []
  }
 ],
 "metadata": {
  "kernelspec": {
   "display_name": "PythonData",
   "language": "python",
   "name": "pythondata"
  },
  "language_info": {
   "codemirror_mode": {
    "name": "ipython",
    "version": 3
   },
   "file_extension": ".py",
   "mimetype": "text/x-python",
   "name": "python",
   "nbconvert_exporter": "python",
   "pygments_lexer": "ipython3",
   "version": "3.9.7"
  }
 },
 "nbformat": 4,
 "nbformat_minor": 5
}
